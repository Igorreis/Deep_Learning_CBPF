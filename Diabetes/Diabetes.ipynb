{
  "nbformat": 4,
  "nbformat_minor": 0,
  "metadata": {
    "colab": {
      "name": "Diabetes.ipynb",
      "provenance": []
    },
    "kernelspec": {
      "name": "python3",
      "display_name": "Python 3"
    },
    "accelerator": "GPU"
  },
  "cells": [
    {
      "cell_type": "markdown",
      "metadata": {
        "id": "9yEJbwmwx_kj",
        "colab_type": "text"
      },
      "source": [
        "# Importando os pacotes"
      ]
    },
    {
      "cell_type": "code",
      "metadata": {
        "id": "KNPJfEROyzw5",
        "colab_type": "code",
        "colab": {}
      },
      "source": [
        "from keras import models\n",
        "from keras import layers\n",
        "import numpy as np\n",
        "import pandas as pd\n",
        "import io\n",
        "import matplotlib.pyplot as plt"
      ],
      "execution_count": 1,
      "outputs": []
    },
    {
      "cell_type": "markdown",
      "metadata": {
        "id": "jc2tpYxL3Yaj",
        "colab_type": "text"
      },
      "source": [
        "# Lendo os dados"
      ]
    },
    {
      "cell_type": "code",
      "metadata": {
        "id": "RzNMD87X3aoY",
        "colab_type": "code",
        "colab": {}
      },
      "source": [
        "data = np.array(pd.read_csv('Pima-Diabetes.csv'))"
      ],
      "execution_count": 3,
      "outputs": []
    },
    {
      "cell_type": "markdown",
      "metadata": {
        "id": "9KaGS9UMy20s",
        "colab_type": "text"
      },
      "source": [
        "# Tratando os dados\n",
        "\n",
        "Aqui, normalizo os dados e os separo entre os dados de treino e de teste."
      ]
    },
    {
      "cell_type": "code",
      "metadata": {
        "id": "1SPMD1arzNvp",
        "colab_type": "code",
        "colab": {}
      },
      "source": [
        "data = data/data.max(axis=0)\n",
        "\n",
        "train_info = data[:int(0.8*len(data)),:-1]\n",
        "\n",
        "train_ans = data[:int(0.8*len(data)),-1]\n",
        "\n",
        "test_info = data[int(0.8*len(data)):,:-1]\n",
        "\n",
        "test_ans = data[int(0.8*len(data)):,-1]\n"
      ],
      "execution_count": 4,
      "outputs": []
    },
    {
      "cell_type": "markdown",
      "metadata": {
        "id": "lOVxnmWGzURU",
        "colab_type": "text"
      },
      "source": [
        "# Criando e compilando a rede neural"
      ]
    },
    {
      "cell_type": "code",
      "metadata": {
        "id": "2EF55or7zbLi",
        "colab_type": "code",
        "colab": {}
      },
      "source": [
        "network = models.Sequential()\n",
        "network.add(layers.Dense(500, activation = 'sigmoid', input_shape = (8,)))\n",
        "network.add(layers.Dropout(0.4))\n",
        "network.add(layers.Dense(100, activation = 'sigmoid'))\n",
        "network.add(layers.Dropout(0.3))\n",
        "network.add(layers.Dense(1, activation = 'sigmoid'))\n",
        "\n",
        "network.compile(optimizer = 'adam',\n",
        "                loss = 'binary_crossentropy',\n",
        "                metrics = ['accuracy'])"
      ],
      "execution_count": 5,
      "outputs": []
    },
    {
      "cell_type": "markdown",
      "metadata": {
        "id": "hnr8owKgzmVS",
        "colab_type": "text"
      },
      "source": [
        "# Treinando a rede"
      ]
    },
    {
      "cell_type": "code",
      "metadata": {
        "id": "kWTQhuHezrW7",
        "colab_type": "code",
        "colab": {
          "base_uri": "https://localhost:8080/",
          "height": 1000
        },
        "outputId": "5f91a352-5be1-4f42-b12c-ee74c963f14d"
      },
      "source": [
        "network.fit(train_info, train_ans, epochs = 250, batch_size = 300)"
      ],
      "execution_count": 6,
      "outputs": [
        {
          "output_type": "stream",
          "text": [
            "Epoch 1/250\n",
            "3/3 [==============================] - 0s 3ms/step - loss: 0.6979 - accuracy: 0.6132\n",
            "Epoch 2/250\n",
            "3/3 [==============================] - 0s 3ms/step - loss: 0.6960 - accuracy: 0.6463\n",
            "Epoch 3/250\n",
            "3/3 [==============================] - 0s 3ms/step - loss: 0.6725 - accuracy: 0.6215\n",
            "Epoch 4/250\n",
            "3/3 [==============================] - 0s 2ms/step - loss: 0.6869 - accuracy: 0.6479\n",
            "Epoch 5/250\n",
            "3/3 [==============================] - 0s 2ms/step - loss: 0.6919 - accuracy: 0.6529\n",
            "Epoch 6/250\n",
            "3/3 [==============================] - 0s 2ms/step - loss: 0.6895 - accuracy: 0.6397\n",
            "Epoch 7/250\n",
            "3/3 [==============================] - 0s 3ms/step - loss: 0.6876 - accuracy: 0.5901\n",
            "Epoch 8/250\n",
            "3/3 [==============================] - 0s 2ms/step - loss: 0.6914 - accuracy: 0.5769\n",
            "Epoch 9/250\n",
            "3/3 [==============================] - 0s 3ms/step - loss: 0.6771 - accuracy: 0.6099\n",
            "Epoch 10/250\n",
            "3/3 [==============================] - 0s 2ms/step - loss: 0.6829 - accuracy: 0.6463\n",
            "Epoch 11/250\n",
            "3/3 [==============================] - 0s 3ms/step - loss: 0.6680 - accuracy: 0.6529\n",
            "Epoch 12/250\n",
            "3/3 [==============================] - 0s 3ms/step - loss: 0.6726 - accuracy: 0.6430\n",
            "Epoch 13/250\n",
            "3/3 [==============================] - 0s 2ms/step - loss: 0.6794 - accuracy: 0.6512\n",
            "Epoch 14/250\n",
            "3/3 [==============================] - 0s 2ms/step - loss: 0.6698 - accuracy: 0.6215\n",
            "Epoch 15/250\n",
            "3/3 [==============================] - 0s 2ms/step - loss: 0.6818 - accuracy: 0.6198\n",
            "Epoch 16/250\n",
            "3/3 [==============================] - 0s 2ms/step - loss: 0.6722 - accuracy: 0.6050\n",
            "Epoch 17/250\n",
            "3/3 [==============================] - 0s 3ms/step - loss: 0.6756 - accuracy: 0.6033\n",
            "Epoch 18/250\n",
            "3/3 [==============================] - 0s 3ms/step - loss: 0.6633 - accuracy: 0.6066\n",
            "Epoch 19/250\n",
            "3/3 [==============================] - 0s 3ms/step - loss: 0.6690 - accuracy: 0.6000\n",
            "Epoch 20/250\n",
            "3/3 [==============================] - 0s 3ms/step - loss: 0.6768 - accuracy: 0.6033\n",
            "Epoch 21/250\n",
            "3/3 [==============================] - 0s 3ms/step - loss: 0.6574 - accuracy: 0.6529\n",
            "Epoch 22/250\n",
            "3/3 [==============================] - 0s 3ms/step - loss: 0.6679 - accuracy: 0.6479\n",
            "Epoch 23/250\n",
            "3/3 [==============================] - 0s 3ms/step - loss: 0.7164 - accuracy: 0.6545\n",
            "Epoch 24/250\n",
            "3/3 [==============================] - 0s 3ms/step - loss: 0.7355 - accuracy: 0.6562\n",
            "Epoch 25/250\n",
            "3/3 [==============================] - 0s 3ms/step - loss: 0.6788 - accuracy: 0.6545\n",
            "Epoch 26/250\n",
            "3/3 [==============================] - 0s 3ms/step - loss: 0.6743 - accuracy: 0.6479\n",
            "Epoch 27/250\n",
            "3/3 [==============================] - 0s 3ms/step - loss: 0.6787 - accuracy: 0.5818\n",
            "Epoch 28/250\n",
            "3/3 [==============================] - 0s 4ms/step - loss: 0.6934 - accuracy: 0.5405\n",
            "Epoch 29/250\n",
            "3/3 [==============================] - 0s 3ms/step - loss: 0.6635 - accuracy: 0.6017\n",
            "Epoch 30/250\n",
            "3/3 [==============================] - 0s 3ms/step - loss: 0.6631 - accuracy: 0.6397\n",
            "Epoch 31/250\n",
            "3/3 [==============================] - 0s 3ms/step - loss: 0.6681 - accuracy: 0.6529\n",
            "Epoch 32/250\n",
            "3/3 [==============================] - 0s 3ms/step - loss: 0.7005 - accuracy: 0.6545\n",
            "Epoch 33/250\n",
            "3/3 [==============================] - 0s 3ms/step - loss: 0.7010 - accuracy: 0.6545\n",
            "Epoch 34/250\n",
            "3/3 [==============================] - 0s 3ms/step - loss: 0.6958 - accuracy: 0.6529\n",
            "Epoch 35/250\n",
            "3/3 [==============================] - 0s 3ms/step - loss: 0.6540 - accuracy: 0.6545\n",
            "Epoch 36/250\n",
            "3/3 [==============================] - 0s 2ms/step - loss: 0.6618 - accuracy: 0.6397\n",
            "Epoch 37/250\n",
            "3/3 [==============================] - 0s 3ms/step - loss: 0.6682 - accuracy: 0.5950\n",
            "Epoch 38/250\n",
            "3/3 [==============================] - 0s 5ms/step - loss: 0.6606 - accuracy: 0.6198\n",
            "Epoch 39/250\n",
            "3/3 [==============================] - 0s 2ms/step - loss: 0.6518 - accuracy: 0.6364\n",
            "Epoch 40/250\n",
            "3/3 [==============================] - 0s 3ms/step - loss: 0.6468 - accuracy: 0.6496\n",
            "Epoch 41/250\n",
            "3/3 [==============================] - 0s 3ms/step - loss: 0.6666 - accuracy: 0.6512\n",
            "Epoch 42/250\n",
            "3/3 [==============================] - 0s 2ms/step - loss: 0.6728 - accuracy: 0.6529\n",
            "Epoch 43/250\n",
            "3/3 [==============================] - 0s 3ms/step - loss: 0.6514 - accuracy: 0.6529\n",
            "Epoch 44/250\n",
            "3/3 [==============================] - 0s 5ms/step - loss: 0.6577 - accuracy: 0.6479\n",
            "Epoch 45/250\n",
            "3/3 [==============================] - 0s 3ms/step - loss: 0.6443 - accuracy: 0.6595\n",
            "Epoch 46/250\n",
            "3/3 [==============================] - 0s 3ms/step - loss: 0.6667 - accuracy: 0.5934\n",
            "Epoch 47/250\n",
            "3/3 [==============================] - 0s 3ms/step - loss: 0.6677 - accuracy: 0.5868\n",
            "Epoch 48/250\n",
            "3/3 [==============================] - 0s 3ms/step - loss: 0.6411 - accuracy: 0.6397\n",
            "Epoch 49/250\n",
            "3/3 [==============================] - 0s 3ms/step - loss: 0.6609 - accuracy: 0.6545\n",
            "Epoch 50/250\n",
            "3/3 [==============================] - 0s 4ms/step - loss: 0.6644 - accuracy: 0.6529\n",
            "Epoch 51/250\n",
            "3/3 [==============================] - 0s 3ms/step - loss: 0.6938 - accuracy: 0.6545\n",
            "Epoch 52/250\n",
            "3/3 [==============================] - 0s 3ms/step - loss: 0.6648 - accuracy: 0.6545\n",
            "Epoch 53/250\n",
            "3/3 [==============================] - 0s 3ms/step - loss: 0.6544 - accuracy: 0.6479\n",
            "Epoch 54/250\n",
            "3/3 [==============================] - 0s 3ms/step - loss: 0.6577 - accuracy: 0.6149\n",
            "Epoch 55/250\n",
            "3/3 [==============================] - 0s 3ms/step - loss: 0.6646 - accuracy: 0.6182\n",
            "Epoch 56/250\n",
            "3/3 [==============================] - 0s 2ms/step - loss: 0.6861 - accuracy: 0.5455\n",
            "Epoch 57/250\n",
            "3/3 [==============================] - 0s 2ms/step - loss: 0.6695 - accuracy: 0.5851\n",
            "Epoch 58/250\n",
            "3/3 [==============================] - 0s 3ms/step - loss: 0.6676 - accuracy: 0.6248\n",
            "Epoch 59/250\n",
            "3/3 [==============================] - 0s 3ms/step - loss: 0.6495 - accuracy: 0.6496\n",
            "Epoch 60/250\n",
            "3/3 [==============================] - 0s 3ms/step - loss: 0.6588 - accuracy: 0.6529\n",
            "Epoch 61/250\n",
            "3/3 [==============================] - 0s 3ms/step - loss: 0.6710 - accuracy: 0.6545\n",
            "Epoch 62/250\n",
            "3/3 [==============================] - 0s 2ms/step - loss: 0.6701 - accuracy: 0.6545\n",
            "Epoch 63/250\n",
            "3/3 [==============================] - 0s 2ms/step - loss: 0.6619 - accuracy: 0.6545\n",
            "Epoch 64/250\n",
            "3/3 [==============================] - 0s 2ms/step - loss: 0.6679 - accuracy: 0.6545\n",
            "Epoch 65/250\n",
            "3/3 [==============================] - 0s 2ms/step - loss: 0.6610 - accuracy: 0.6512\n",
            "Epoch 66/250\n",
            "3/3 [==============================] - 0s 3ms/step - loss: 0.6419 - accuracy: 0.6512\n",
            "Epoch 67/250\n",
            "3/3 [==============================] - 0s 4ms/step - loss: 0.6445 - accuracy: 0.6446\n",
            "Epoch 68/250\n",
            "3/3 [==============================] - 0s 3ms/step - loss: 0.6429 - accuracy: 0.6694\n",
            "Epoch 69/250\n",
            "3/3 [==============================] - 0s 2ms/step - loss: 0.6540 - accuracy: 0.6380\n",
            "Epoch 70/250\n",
            "3/3 [==============================] - 0s 3ms/step - loss: 0.6496 - accuracy: 0.6446\n",
            "Epoch 71/250\n",
            "3/3 [==============================] - 0s 2ms/step - loss: 0.6478 - accuracy: 0.6512\n",
            "Epoch 72/250\n",
            "3/3 [==============================] - 0s 3ms/step - loss: 0.6522 - accuracy: 0.6512\n",
            "Epoch 73/250\n",
            "3/3 [==============================] - 0s 3ms/step - loss: 0.6516 - accuracy: 0.6545\n",
            "Epoch 74/250\n",
            "3/3 [==============================] - 0s 3ms/step - loss: 0.6601 - accuracy: 0.6545\n",
            "Epoch 75/250\n",
            "3/3 [==============================] - 0s 3ms/step - loss: 0.6551 - accuracy: 0.6545\n",
            "Epoch 76/250\n",
            "3/3 [==============================] - 0s 2ms/step - loss: 0.6429 - accuracy: 0.6529\n",
            "Epoch 77/250\n",
            "3/3 [==============================] - 0s 3ms/step - loss: 0.6483 - accuracy: 0.6545\n",
            "Epoch 78/250\n",
            "3/3 [==============================] - 0s 2ms/step - loss: 0.6531 - accuracy: 0.6545\n",
            "Epoch 79/250\n",
            "3/3 [==============================] - 0s 3ms/step - loss: 0.6595 - accuracy: 0.6545\n",
            "Epoch 80/250\n",
            "3/3 [==============================] - 0s 3ms/step - loss: 0.6493 - accuracy: 0.6545\n",
            "Epoch 81/250\n",
            "3/3 [==============================] - 0s 3ms/step - loss: 0.6484 - accuracy: 0.6545\n",
            "Epoch 82/250\n",
            "3/3 [==============================] - 0s 2ms/step - loss: 0.6429 - accuracy: 0.6529\n",
            "Epoch 83/250\n",
            "3/3 [==============================] - 0s 2ms/step - loss: 0.6399 - accuracy: 0.6496\n",
            "Epoch 84/250\n",
            "3/3 [==============================] - 0s 3ms/step - loss: 0.6484 - accuracy: 0.6512\n",
            "Epoch 85/250\n",
            "3/3 [==============================] - 0s 3ms/step - loss: 0.6475 - accuracy: 0.6562\n",
            "Epoch 86/250\n",
            "3/3 [==============================] - 0s 3ms/step - loss: 0.6454 - accuracy: 0.6529\n",
            "Epoch 87/250\n",
            "3/3 [==============================] - 0s 3ms/step - loss: 0.6458 - accuracy: 0.6529\n",
            "Epoch 88/250\n",
            "3/3 [==============================] - 0s 3ms/step - loss: 0.6422 - accuracy: 0.6529\n",
            "Epoch 89/250\n",
            "3/3 [==============================] - 0s 3ms/step - loss: 0.6486 - accuracy: 0.6529\n",
            "Epoch 90/250\n",
            "3/3 [==============================] - 0s 2ms/step - loss: 0.6409 - accuracy: 0.6545\n",
            "Epoch 91/250\n",
            "3/3 [==============================] - 0s 3ms/step - loss: 0.6389 - accuracy: 0.6512\n",
            "Epoch 92/250\n",
            "3/3 [==============================] - 0s 3ms/step - loss: 0.6444 - accuracy: 0.6529\n",
            "Epoch 93/250\n",
            "3/3 [==============================] - 0s 3ms/step - loss: 0.6479 - accuracy: 0.6562\n",
            "Epoch 94/250\n",
            "3/3 [==============================] - 0s 2ms/step - loss: 0.6450 - accuracy: 0.6529\n",
            "Epoch 95/250\n",
            "3/3 [==============================] - 0s 3ms/step - loss: 0.6345 - accuracy: 0.6562\n",
            "Epoch 96/250\n",
            "3/3 [==============================] - 0s 3ms/step - loss: 0.6422 - accuracy: 0.6562\n",
            "Epoch 97/250\n",
            "3/3 [==============================] - 0s 4ms/step - loss: 0.6464 - accuracy: 0.6545\n",
            "Epoch 98/250\n",
            "3/3 [==============================] - 0s 4ms/step - loss: 0.6477 - accuracy: 0.6545\n",
            "Epoch 99/250\n",
            "3/3 [==============================] - 0s 3ms/step - loss: 0.6540 - accuracy: 0.6545\n",
            "Epoch 100/250\n",
            "3/3 [==============================] - 0s 3ms/step - loss: 0.6588 - accuracy: 0.6545\n",
            "Epoch 101/250\n",
            "3/3 [==============================] - 0s 3ms/step - loss: 0.6648 - accuracy: 0.6545\n",
            "Epoch 102/250\n",
            "3/3 [==============================] - 0s 3ms/step - loss: 0.6592 - accuracy: 0.6545\n",
            "Epoch 103/250\n",
            "3/3 [==============================] - 0s 2ms/step - loss: 0.6598 - accuracy: 0.6545\n",
            "Epoch 104/250\n",
            "3/3 [==============================] - 0s 3ms/step - loss: 0.6376 - accuracy: 0.6545\n",
            "Epoch 105/250\n",
            "3/3 [==============================] - 0s 2ms/step - loss: 0.6450 - accuracy: 0.6529\n",
            "Epoch 106/250\n",
            "3/3 [==============================] - 0s 4ms/step - loss: 0.6399 - accuracy: 0.6545\n",
            "Epoch 107/250\n",
            "3/3 [==============================] - 0s 2ms/step - loss: 0.6438 - accuracy: 0.6529\n",
            "Epoch 108/250\n",
            "3/3 [==============================] - 0s 3ms/step - loss: 0.6357 - accuracy: 0.6562\n",
            "Epoch 109/250\n",
            "3/3 [==============================] - 0s 2ms/step - loss: 0.6443 - accuracy: 0.6512\n",
            "Epoch 110/250\n",
            "3/3 [==============================] - 0s 3ms/step - loss: 0.6371 - accuracy: 0.6545\n",
            "Epoch 111/250\n",
            "3/3 [==============================] - 0s 3ms/step - loss: 0.6474 - accuracy: 0.6545\n",
            "Epoch 112/250\n",
            "3/3 [==============================] - 0s 2ms/step - loss: 0.6451 - accuracy: 0.6545\n",
            "Epoch 113/250\n",
            "3/3 [==============================] - 0s 3ms/step - loss: 0.6492 - accuracy: 0.6529\n",
            "Epoch 114/250\n",
            "3/3 [==============================] - 0s 3ms/step - loss: 0.6476 - accuracy: 0.6545\n",
            "Epoch 115/250\n",
            "3/3 [==============================] - 0s 2ms/step - loss: 0.6480 - accuracy: 0.6545\n",
            "Epoch 116/250\n",
            "3/3 [==============================] - 0s 3ms/step - loss: 0.6562 - accuracy: 0.6545\n",
            "Epoch 117/250\n",
            "3/3 [==============================] - 0s 3ms/step - loss: 0.6461 - accuracy: 0.6545\n",
            "Epoch 118/250\n",
            "3/3 [==============================] - 0s 3ms/step - loss: 0.6400 - accuracy: 0.6545\n",
            "Epoch 119/250\n",
            "3/3 [==============================] - 0s 3ms/step - loss: 0.6458 - accuracy: 0.6545\n",
            "Epoch 120/250\n",
            "3/3 [==============================] - 0s 3ms/step - loss: 0.6383 - accuracy: 0.6545\n",
            "Epoch 121/250\n",
            "3/3 [==============================] - 0s 3ms/step - loss: 0.6433 - accuracy: 0.6529\n",
            "Epoch 122/250\n",
            "3/3 [==============================] - 0s 3ms/step - loss: 0.6422 - accuracy: 0.6529\n",
            "Epoch 123/250\n",
            "3/3 [==============================] - 0s 3ms/step - loss: 0.6480 - accuracy: 0.6545\n",
            "Epoch 124/250\n",
            "3/3 [==============================] - 0s 3ms/step - loss: 0.6579 - accuracy: 0.6463\n",
            "Epoch 125/250\n",
            "3/3 [==============================] - 0s 4ms/step - loss: 0.6601 - accuracy: 0.6413\n",
            "Epoch 126/250\n",
            "3/3 [==============================] - 0s 2ms/step - loss: 0.6561 - accuracy: 0.6347\n",
            "Epoch 127/250\n",
            "3/3 [==============================] - 0s 2ms/step - loss: 0.6508 - accuracy: 0.6512\n",
            "Epoch 128/250\n",
            "3/3 [==============================] - 0s 2ms/step - loss: 0.6540 - accuracy: 0.6413\n",
            "Epoch 129/250\n",
            "3/3 [==============================] - 0s 2ms/step - loss: 0.6552 - accuracy: 0.6413\n",
            "Epoch 130/250\n",
            "3/3 [==============================] - 0s 3ms/step - loss: 0.6448 - accuracy: 0.6463\n",
            "Epoch 131/250\n",
            "3/3 [==============================] - 0s 3ms/step - loss: 0.6400 - accuracy: 0.6595\n",
            "Epoch 132/250\n",
            "3/3 [==============================] - 0s 2ms/step - loss: 0.6373 - accuracy: 0.6529\n",
            "Epoch 133/250\n",
            "3/3 [==============================] - 0s 3ms/step - loss: 0.6423 - accuracy: 0.6562\n",
            "Epoch 134/250\n",
            "3/3 [==============================] - 0s 3ms/step - loss: 0.6436 - accuracy: 0.6562\n",
            "Epoch 135/250\n",
            "3/3 [==============================] - 0s 3ms/step - loss: 0.6391 - accuracy: 0.6545\n",
            "Epoch 136/250\n",
            "3/3 [==============================] - 0s 3ms/step - loss: 0.6401 - accuracy: 0.6562\n",
            "Epoch 137/250\n",
            "3/3 [==============================] - 0s 3ms/step - loss: 0.6399 - accuracy: 0.6545\n",
            "Epoch 138/250\n",
            "3/3 [==============================] - 0s 2ms/step - loss: 0.6474 - accuracy: 0.6545\n",
            "Epoch 139/250\n",
            "3/3 [==============================] - 0s 3ms/step - loss: 0.6416 - accuracy: 0.6545\n",
            "Epoch 140/250\n",
            "3/3 [==============================] - 0s 3ms/step - loss: 0.6444 - accuracy: 0.6545\n",
            "Epoch 141/250\n",
            "3/3 [==============================] - 0s 3ms/step - loss: 0.6385 - accuracy: 0.6545\n",
            "Epoch 142/250\n",
            "3/3 [==============================] - 0s 2ms/step - loss: 0.6385 - accuracy: 0.6562\n",
            "Epoch 143/250\n",
            "3/3 [==============================] - 0s 2ms/step - loss: 0.6306 - accuracy: 0.6562\n",
            "Epoch 144/250\n",
            "3/3 [==============================] - 0s 3ms/step - loss: 0.6415 - accuracy: 0.6562\n",
            "Epoch 145/250\n",
            "3/3 [==============================] - 0s 2ms/step - loss: 0.6404 - accuracy: 0.6545\n",
            "Epoch 146/250\n",
            "3/3 [==============================] - 0s 3ms/step - loss: 0.6388 - accuracy: 0.6612\n",
            "Epoch 147/250\n",
            "3/3 [==============================] - 0s 2ms/step - loss: 0.6382 - accuracy: 0.6512\n",
            "Epoch 148/250\n",
            "3/3 [==============================] - 0s 3ms/step - loss: 0.6426 - accuracy: 0.6512\n",
            "Epoch 149/250\n",
            "3/3 [==============================] - 0s 3ms/step - loss: 0.6312 - accuracy: 0.6545\n",
            "Epoch 150/250\n",
            "3/3 [==============================] - 0s 3ms/step - loss: 0.6363 - accuracy: 0.6545\n",
            "Epoch 151/250\n",
            "3/3 [==============================] - 0s 2ms/step - loss: 0.6398 - accuracy: 0.6545\n",
            "Epoch 152/250\n",
            "3/3 [==============================] - 0s 2ms/step - loss: 0.6407 - accuracy: 0.6545\n",
            "Epoch 153/250\n",
            "3/3 [==============================] - 0s 3ms/step - loss: 0.6446 - accuracy: 0.6545\n",
            "Epoch 154/250\n",
            "3/3 [==============================] - 0s 2ms/step - loss: 0.6429 - accuracy: 0.6545\n",
            "Epoch 155/250\n",
            "3/3 [==============================] - 0s 3ms/step - loss: 0.6429 - accuracy: 0.6545\n",
            "Epoch 156/250\n",
            "3/3 [==============================] - 0s 3ms/step - loss: 0.6311 - accuracy: 0.6512\n",
            "Epoch 157/250\n",
            "3/3 [==============================] - 0s 3ms/step - loss: 0.6368 - accuracy: 0.6545\n",
            "Epoch 158/250\n",
            "3/3 [==============================] - 0s 2ms/step - loss: 0.6370 - accuracy: 0.6562\n",
            "Epoch 159/250\n",
            "3/3 [==============================] - 0s 3ms/step - loss: 0.6332 - accuracy: 0.6595\n",
            "Epoch 160/250\n",
            "3/3 [==============================] - 0s 2ms/step - loss: 0.6378 - accuracy: 0.6562\n",
            "Epoch 161/250\n",
            "3/3 [==============================] - 0s 3ms/step - loss: 0.6407 - accuracy: 0.6545\n",
            "Epoch 162/250\n",
            "3/3 [==============================] - 0s 3ms/step - loss: 0.6429 - accuracy: 0.6529\n",
            "Epoch 163/250\n",
            "3/3 [==============================] - 0s 3ms/step - loss: 0.6335 - accuracy: 0.6545\n",
            "Epoch 164/250\n",
            "3/3 [==============================] - 0s 3ms/step - loss: 0.6334 - accuracy: 0.6545\n",
            "Epoch 165/250\n",
            "3/3 [==============================] - 0s 3ms/step - loss: 0.6434 - accuracy: 0.6512\n",
            "Epoch 166/250\n",
            "3/3 [==============================] - 0s 2ms/step - loss: 0.6374 - accuracy: 0.6545\n",
            "Epoch 167/250\n",
            "3/3 [==============================] - 0s 4ms/step - loss: 0.6480 - accuracy: 0.6545\n",
            "Epoch 168/250\n",
            "3/3 [==============================] - 0s 3ms/step - loss: 0.6432 - accuracy: 0.6545\n",
            "Epoch 169/250\n",
            "3/3 [==============================] - 0s 3ms/step - loss: 0.6337 - accuracy: 0.6529\n",
            "Epoch 170/250\n",
            "3/3 [==============================] - 0s 3ms/step - loss: 0.6378 - accuracy: 0.6562\n",
            "Epoch 171/250\n",
            "3/3 [==============================] - 0s 3ms/step - loss: 0.6408 - accuracy: 0.6579\n",
            "Epoch 172/250\n",
            "3/3 [==============================] - 0s 3ms/step - loss: 0.6347 - accuracy: 0.6545\n",
            "Epoch 173/250\n",
            "3/3 [==============================] - 0s 2ms/step - loss: 0.6385 - accuracy: 0.6562\n",
            "Epoch 174/250\n",
            "3/3 [==============================] - 0s 3ms/step - loss: 0.6376 - accuracy: 0.6562\n",
            "Epoch 175/250\n",
            "3/3 [==============================] - 0s 3ms/step - loss: 0.6449 - accuracy: 0.6496\n",
            "Epoch 176/250\n",
            "3/3 [==============================] - 0s 3ms/step - loss: 0.6500 - accuracy: 0.6579\n",
            "Epoch 177/250\n",
            "3/3 [==============================] - 0s 2ms/step - loss: 0.6391 - accuracy: 0.6645\n",
            "Epoch 178/250\n",
            "3/3 [==============================] - 0s 3ms/step - loss: 0.6443 - accuracy: 0.6562\n",
            "Epoch 179/250\n",
            "3/3 [==============================] - 0s 2ms/step - loss: 0.6339 - accuracy: 0.6545\n",
            "Epoch 180/250\n",
            "3/3 [==============================] - 0s 3ms/step - loss: 0.6351 - accuracy: 0.6612\n",
            "Epoch 181/250\n",
            "3/3 [==============================] - 0s 3ms/step - loss: 0.6327 - accuracy: 0.6562\n",
            "Epoch 182/250\n",
            "3/3 [==============================] - 0s 4ms/step - loss: 0.6273 - accuracy: 0.6545\n",
            "Epoch 183/250\n",
            "3/3 [==============================] - 0s 3ms/step - loss: 0.6300 - accuracy: 0.6628\n",
            "Epoch 184/250\n",
            "3/3 [==============================] - 0s 3ms/step - loss: 0.6324 - accuracy: 0.6612\n",
            "Epoch 185/250\n",
            "3/3 [==============================] - 0s 3ms/step - loss: 0.6402 - accuracy: 0.6545\n",
            "Epoch 186/250\n",
            "3/3 [==============================] - 0s 3ms/step - loss: 0.6458 - accuracy: 0.6529\n",
            "Epoch 187/250\n",
            "3/3 [==============================] - 0s 3ms/step - loss: 0.6500 - accuracy: 0.6545\n",
            "Epoch 188/250\n",
            "3/3 [==============================] - 0s 3ms/step - loss: 0.6415 - accuracy: 0.6529\n",
            "Epoch 189/250\n",
            "3/3 [==============================] - 0s 3ms/step - loss: 0.6360 - accuracy: 0.6645\n",
            "Epoch 190/250\n",
            "3/3 [==============================] - 0s 3ms/step - loss: 0.6387 - accuracy: 0.6479\n",
            "Epoch 191/250\n",
            "3/3 [==============================] - 0s 3ms/step - loss: 0.6372 - accuracy: 0.6595\n",
            "Epoch 192/250\n",
            "3/3 [==============================] - 0s 3ms/step - loss: 0.6394 - accuracy: 0.6545\n",
            "Epoch 193/250\n",
            "3/3 [==============================] - 0s 3ms/step - loss: 0.6325 - accuracy: 0.6545\n",
            "Epoch 194/250\n",
            "3/3 [==============================] - 0s 3ms/step - loss: 0.6339 - accuracy: 0.6512\n",
            "Epoch 195/250\n",
            "3/3 [==============================] - 0s 2ms/step - loss: 0.6302 - accuracy: 0.6579\n",
            "Epoch 196/250\n",
            "3/3 [==============================] - 0s 2ms/step - loss: 0.6321 - accuracy: 0.6479\n",
            "Epoch 197/250\n",
            "3/3 [==============================] - 0s 2ms/step - loss: 0.6399 - accuracy: 0.6479\n",
            "Epoch 198/250\n",
            "3/3 [==============================] - 0s 2ms/step - loss: 0.6348 - accuracy: 0.6661\n",
            "Epoch 199/250\n",
            "3/3 [==============================] - 0s 3ms/step - loss: 0.6328 - accuracy: 0.6678\n",
            "Epoch 200/250\n",
            "3/3 [==============================] - 0s 2ms/step - loss: 0.6326 - accuracy: 0.6628\n",
            "Epoch 201/250\n",
            "3/3 [==============================] - 0s 3ms/step - loss: 0.6398 - accuracy: 0.6562\n",
            "Epoch 202/250\n",
            "3/3 [==============================] - 0s 3ms/step - loss: 0.6278 - accuracy: 0.6545\n",
            "Epoch 203/250\n",
            "3/3 [==============================] - 0s 3ms/step - loss: 0.6420 - accuracy: 0.6479\n",
            "Epoch 204/250\n",
            "3/3 [==============================] - 0s 3ms/step - loss: 0.6281 - accuracy: 0.6529\n",
            "Epoch 205/250\n",
            "3/3 [==============================] - 0s 3ms/step - loss: 0.6354 - accuracy: 0.6562\n",
            "Epoch 206/250\n",
            "3/3 [==============================] - 0s 2ms/step - loss: 0.6352 - accuracy: 0.6529\n",
            "Epoch 207/250\n",
            "3/3 [==============================] - 0s 4ms/step - loss: 0.6239 - accuracy: 0.6562\n",
            "Epoch 208/250\n",
            "3/3 [==============================] - 0s 3ms/step - loss: 0.6337 - accuracy: 0.6496\n",
            "Epoch 209/250\n",
            "3/3 [==============================] - 0s 3ms/step - loss: 0.6460 - accuracy: 0.6612\n",
            "Epoch 210/250\n",
            "3/3 [==============================] - 0s 2ms/step - loss: 0.6494 - accuracy: 0.6298\n",
            "Epoch 211/250\n",
            "3/3 [==============================] - 0s 3ms/step - loss: 0.6486 - accuracy: 0.6529\n",
            "Epoch 212/250\n",
            "3/3 [==============================] - 0s 4ms/step - loss: 0.6353 - accuracy: 0.6628\n",
            "Epoch 213/250\n",
            "3/3 [==============================] - 0s 2ms/step - loss: 0.6289 - accuracy: 0.6612\n",
            "Epoch 214/250\n",
            "3/3 [==============================] - 0s 3ms/step - loss: 0.6357 - accuracy: 0.6562\n",
            "Epoch 215/250\n",
            "3/3 [==============================] - 0s 3ms/step - loss: 0.6492 - accuracy: 0.6545\n",
            "Epoch 216/250\n",
            "3/3 [==============================] - 0s 3ms/step - loss: 0.6408 - accuracy: 0.6562\n",
            "Epoch 217/250\n",
            "3/3 [==============================] - 0s 3ms/step - loss: 0.6519 - accuracy: 0.6545\n",
            "Epoch 218/250\n",
            "3/3 [==============================] - 0s 3ms/step - loss: 0.6593 - accuracy: 0.6545\n",
            "Epoch 219/250\n",
            "3/3 [==============================] - 0s 2ms/step - loss: 0.6383 - accuracy: 0.6545\n",
            "Epoch 220/250\n",
            "3/3 [==============================] - 0s 3ms/step - loss: 0.6367 - accuracy: 0.6529\n",
            "Epoch 221/250\n",
            "3/3 [==============================] - 0s 2ms/step - loss: 0.6382 - accuracy: 0.6512\n",
            "Epoch 222/250\n",
            "3/3 [==============================] - 0s 3ms/step - loss: 0.6235 - accuracy: 0.6612\n",
            "Epoch 223/250\n",
            "3/3 [==============================] - 0s 3ms/step - loss: 0.6200 - accuracy: 0.6529\n",
            "Epoch 224/250\n",
            "3/3 [==============================] - 0s 3ms/step - loss: 0.6318 - accuracy: 0.6562\n",
            "Epoch 225/250\n",
            "3/3 [==============================] - 0s 3ms/step - loss: 0.6224 - accuracy: 0.6529\n",
            "Epoch 226/250\n",
            "3/3 [==============================] - 0s 3ms/step - loss: 0.6418 - accuracy: 0.6562\n",
            "Epoch 227/250\n",
            "3/3 [==============================] - 0s 3ms/step - loss: 0.6285 - accuracy: 0.6562\n",
            "Epoch 228/250\n",
            "3/3 [==============================] - 0s 5ms/step - loss: 0.6317 - accuracy: 0.6645\n",
            "Epoch 229/250\n",
            "3/3 [==============================] - 0s 3ms/step - loss: 0.6268 - accuracy: 0.6661\n",
            "Epoch 230/250\n",
            "3/3 [==============================] - 0s 3ms/step - loss: 0.6322 - accuracy: 0.6612\n",
            "Epoch 231/250\n",
            "3/3 [==============================] - 0s 3ms/step - loss: 0.6239 - accuracy: 0.6545\n",
            "Epoch 232/250\n",
            "3/3 [==============================] - 0s 3ms/step - loss: 0.6174 - accuracy: 0.6793\n",
            "Epoch 233/250\n",
            "3/3 [==============================] - 0s 3ms/step - loss: 0.6216 - accuracy: 0.6612\n",
            "Epoch 234/250\n",
            "3/3 [==============================] - 0s 3ms/step - loss: 0.6271 - accuracy: 0.6926\n",
            "Epoch 235/250\n",
            "3/3 [==============================] - 0s 5ms/step - loss: 0.6216 - accuracy: 0.6793\n",
            "Epoch 236/250\n",
            "3/3 [==============================] - 0s 4ms/step - loss: 0.6305 - accuracy: 0.6860\n",
            "Epoch 237/250\n",
            "3/3 [==============================] - 0s 3ms/step - loss: 0.6471 - accuracy: 0.6314\n",
            "Epoch 238/250\n",
            "3/3 [==============================] - 0s 3ms/step - loss: 0.6350 - accuracy: 0.6579\n",
            "Epoch 239/250\n",
            "3/3 [==============================] - 0s 3ms/step - loss: 0.6365 - accuracy: 0.6628\n",
            "Epoch 240/250\n",
            "3/3 [==============================] - 0s 3ms/step - loss: 0.6199 - accuracy: 0.6694\n",
            "Epoch 241/250\n",
            "3/3 [==============================] - 0s 3ms/step - loss: 0.6264 - accuracy: 0.6512\n",
            "Epoch 242/250\n",
            "3/3 [==============================] - 0s 2ms/step - loss: 0.6187 - accuracy: 0.6595\n",
            "Epoch 243/250\n",
            "3/3 [==============================] - 0s 3ms/step - loss: 0.6194 - accuracy: 0.6545\n",
            "Epoch 244/250\n",
            "3/3 [==============================] - 0s 3ms/step - loss: 0.6290 - accuracy: 0.6562\n",
            "Epoch 245/250\n",
            "3/3 [==============================] - 0s 4ms/step - loss: 0.6272 - accuracy: 0.6529\n",
            "Epoch 246/250\n",
            "3/3 [==============================] - 0s 3ms/step - loss: 0.6375 - accuracy: 0.6562\n",
            "Epoch 247/250\n",
            "3/3 [==============================] - 0s 3ms/step - loss: 0.6393 - accuracy: 0.6545\n",
            "Epoch 248/250\n",
            "3/3 [==============================] - 0s 3ms/step - loss: 0.6226 - accuracy: 0.6579\n",
            "Epoch 249/250\n",
            "3/3 [==============================] - 0s 3ms/step - loss: 0.6176 - accuracy: 0.6661\n",
            "Epoch 250/250\n",
            "3/3 [==============================] - 0s 3ms/step - loss: 0.6196 - accuracy: 0.6678\n"
          ],
          "name": "stdout"
        },
        {
          "output_type": "execute_result",
          "data": {
            "text/plain": [
              "<tensorflow.python.keras.callbacks.History at 0x7f4632523d30>"
            ]
          },
          "metadata": {
            "tags": []
          },
          "execution_count": 6
        }
      ]
    },
    {
      "cell_type": "markdown",
      "metadata": {
        "id": "Od1wgyzWzt00",
        "colab_type": "text"
      },
      "source": [
        "# Testando o resultado do treinamento com os dados de teste"
      ]
    },
    {
      "cell_type": "code",
      "metadata": {
        "id": "Uz3jRIn0zzA1",
        "colab_type": "code",
        "colab": {
          "base_uri": "https://localhost:8080/",
          "height": 52
        },
        "outputId": "25a13ccc-7061-4fc5-dbd4-4236c508b2e5"
      },
      "source": [
        "test_loss, test_acc = network.evaluate(test_info, test_ans)\n",
        "print('test_acc =', test_acc)"
      ],
      "execution_count": 7,
      "outputs": [
        {
          "output_type": "stream",
          "text": [
            "5/5 [==============================] - 0s 2ms/step - loss: 0.6179 - accuracy: 0.6382\n",
            "test_acc = 0.6381579041481018\n"
          ],
          "name": "stdout"
        }
      ]
    },
    {
      "cell_type": "markdown",
      "metadata": {
        "id": "2asEnvT1z5Ti",
        "colab_type": "text"
      },
      "source": [
        "# Curva roc\n",
        "\n",
        "Vamos utilizar os dados de teste, já que o outro arquivo fornecido não possuía gabarito."
      ]
    },
    {
      "cell_type": "code",
      "metadata": {
        "id": "TfkVECXz0J_Q",
        "colab_type": "code",
        "colab": {}
      },
      "source": [
        "k = network.predict(test_info)\n",
        "\n",
        "real_positive = k[np.where(test_ans == 1)]\n",
        "real_negative = k[np.where(test_ans == 0)]"
      ],
      "execution_count": 8,
      "outputs": []
    },
    {
      "cell_type": "markdown",
      "metadata": {
        "id": "94gOeAFM0Q9y",
        "colab_type": "text"
      },
      "source": [
        "# Vou criar as listas vazias para os casos possíveis \n",
        "\n",
        "Tp = True positive \n",
        "\n",
        "Fp = False positive\n",
        "\n",
        "Tn = True negative\n",
        "\n",
        "Fn = False negative\n",
        "\n",
        "Tpr = True positive rate\n",
        "\n",
        "Fpr = False positive rate"
      ]
    },
    {
      "cell_type": "code",
      "metadata": {
        "id": "MbSyb2If0okL",
        "colab_type": "code",
        "colab": {}
      },
      "source": [
        "Tp = []\n",
        "Fp = []\n",
        "Fn = []\n",
        "Tn = []\n",
        "\n",
        "Tpr = []\n",
        "Fpr = []"
      ],
      "execution_count": 9,
      "outputs": []
    },
    {
      "cell_type": "markdown",
      "metadata": {
        "id": "yqeJrHyc0yE6",
        "colab_type": "text"
      },
      "source": [
        "# Calculando as taxas "
      ]
    },
    {
      "cell_type": "code",
      "metadata": {
        "id": "zM1RjsWE02V9",
        "colab_type": "code",
        "colab": {}
      },
      "source": [
        "threshold = np.linspace(0,1,100)\n",
        "\n",
        "for i in range(len(threshold)):\n",
        "    Tp.append(len(real_positive[np.where(real_positive>threshold[i])]))\n",
        "    Fp.append(len(real_negative[np.where(real_negative>threshold[i])]))\n",
        "    Fn.append(len(real_positive[np.where(real_positive<threshold[i])]))\n",
        "    Tn.append(len(real_negative[np.where(real_negative<threshold[i])]))\n",
        "    \n",
        "    Tpr.append(Tp[i]/(Tp[i] + Fn[i]))\n",
        "    Fpr.append(Fp[i]/(Fp[i] + Tn[i]))"
      ],
      "execution_count": 11,
      "outputs": []
    },
    {
      "cell_type": "markdown",
      "metadata": {
        "id": "OrpW6KRz04dS",
        "colab_type": "text"
      },
      "source": [
        "# Plot da curva roc"
      ]
    },
    {
      "cell_type": "code",
      "metadata": {
        "id": "tH81eDBg07IB",
        "colab_type": "code",
        "colab": {
          "base_uri": "https://localhost:8080/",
          "height": 312
        },
        "outputId": "e1c2af7f-9a1d-4ddc-e6e7-647012feb617"
      },
      "source": [
        "plt.plot(Fpr, Tpr)\n",
        "plt.xlabel('Fpr')\n",
        "plt.ylabel('Tpr')\n",
        "plt.title('Roc Curve')"
      ],
      "execution_count": 12,
      "outputs": [
        {
          "output_type": "execute_result",
          "data": {
            "text/plain": [
              "Text(0.5, 1.0, 'Roc Curve')"
            ]
          },
          "metadata": {
            "tags": []
          },
          "execution_count": 12
        },
        {
          "output_type": "display_data",
          "data": {
            "image/png": "[encoded data removed]",
            "text/plain": [
              "<Figure size 432x288 with 1 Axes>"
            ]
          },
          "metadata": {
            "tags": [],
            "needs_background": "light"
          }
        }
      ]
    },
    {
      "cell_type": "markdown",
      "metadata": {
        "id": "9geIrQUJ0-By",
        "colab_type": "text"
      },
      "source": [
        "# Taxa ótima\n",
        "\n",
        "Queremos encontrar qual o melhor valor para o threshold, isto é, o valor que nos dá o maior número de previsões corretas."
      ]
    },
    {
      "cell_type": "code",
      "metadata": {
        "id": "y3H6uxZA1PLN",
        "colab_type": "code",
        "colab": {
          "base_uri": "https://localhost:8080/",
          "height": 34
        },
        "outputId": "b7e76694-9069-447e-9acb-afdc37a3257c"
      },
      "source": [
        "best_threshold = threshold[np.argmax(np.array(Tp) + np.array(Tn) - np.array(Fp) - np.array(Fn))]\n",
        "\n",
        "print('best_threshold =', best_threshold)"
      ],
      "execution_count": 13,
      "outputs": [
        {
          "output_type": "stream",
          "text": [
            "best_threshold = 0.37373737373737376\n"
          ],
          "name": "stdout"
        }
      ]
    }
  ]
}