{
  "nbformat": 4,
  "nbformat_minor": 0,
  "metadata": {
    "colab": {
      "name": "Mnistcnn.ipynb",
      "provenance": []
    },
    "kernelspec": {
      "name": "python3",
      "display_name": "Python 3"
    },
    "accelerator": "GPU"
  },
  "cells": [
    {
      "cell_type": "markdown",
      "metadata": {
        "id": "TgQzdLRTyvpu",
        "colab_type": "text"
      },
      "source": [
        "# Importando pacotes"
      ]
    },
    {
      "cell_type": "code",
      "metadata": {
        "id": "9VoGFmCTK7Gb",
        "colab_type": "code",
        "colab": {}
      },
      "source": [
        "from keras.datasets import mnist\n",
        "from keras import layers\n",
        "from keras import models\n",
        "from keras.utils import to_categorical\n",
        "import numpy as np\n",
        "from keras.layers import Conv2D, MaxPooling2D, Dense, Flatten, Dropout\n",
        "from PIL import *\n",
        "import matplotlib.pyplot as plt"
      ],
      "execution_count": 242,
      "outputs": []
    },
    {
      "cell_type": "markdown",
      "metadata": {
        "id": "2dxzlCd1yz4T",
        "colab_type": "text"
      },
      "source": [
        "# Lendo os dados e os formatando no formato correto para a rede"
      ]
    },
    {
      "cell_type": "code",
      "metadata": {
        "id": "R9JuTmgqLoTT",
        "colab_type": "code",
        "colab": {
          "base_uri": "https://localhost:8080/",
          "height": 265
        },
        "outputId": "e583574c-a70e-46d2-cbe0-cd18010a850e"
      },
      "source": [
        "(train_images, train_labels), (test_images, test_labels) = mnist.load_data()\n",
        "\n",
        "plt.imshow(test_images[4], cmap = plt.cm.binary)\n",
        "\n",
        "train_images = np.expand_dims(train_images, axis = 3)/255\n",
        "test_images = np.expand_dims(test_images, axis = 3)/255"
      ],
      "execution_count": 290,
      "outputs": [
        {
          "output_type": "display_data",
          "data": {
            "image/png": "[encoded data removed]",
            "text/plain": [
              "<Figure size 432x288 with 1 Axes>"
            ]
          },
          "metadata": {
            "tags": [],
            "needs_background": "light"
          }
        }
      ]
    },
    {
      "cell_type": "markdown",
      "metadata": {
        "id": "s4LWlmtHz55a",
        "colab_type": "text"
      },
      "source": [
        "# Rede convolucional"
      ]
    },
    {
      "cell_type": "code",
      "metadata": {
        "id": "zFOLkhsML78Q",
        "colab_type": "code",
        "colab": {}
      },
      "source": [
        "network = models.Sequential([\n",
        "                  Conv2D(64, 3, input_shape = (28, 28, 1)),\n",
        "                  Conv2D(32, 3),\n",
        "                  MaxPooling2D(pool_size = 2),\n",
        "                  Dropout(0.4),\n",
        "                  Conv2D(32, 3),\n",
        "                  MaxPooling2D(pool_size = 2),\n",
        "                  Dropout(0.3),\n",
        "                  Flatten(),\n",
        "                  Dense(128, activation = 'relu'),\n",
        "                  Dense(64, activation = 'relu'),\n",
        "                  #Dropout(0.2),\n",
        "                  Dense(10, activation = 'softmax'),\n",
        "                             ])"
      ],
      "execution_count": 291,
      "outputs": []
    },
    {
      "cell_type": "code",
      "metadata": {
        "id": "DSlo1CLPMFTm",
        "colab_type": "code",
        "colab": {}
      },
      "source": [
        "network.compile(optimizer = 'adam', loss = 'categorical_crossentropy', metrics = ['accuracy'])"
      ],
      "execution_count": 292,
      "outputs": []
    },
    {
      "cell_type": "code",
      "metadata": {
        "id": "8kYfSl0mNcfh",
        "colab_type": "code",
        "colab": {
          "base_uri": "https://localhost:8080/",
          "height": 243
        },
        "outputId": "cebb06d5-ab12-44c6-f8e1-365a4228a628"
      },
      "source": [
        "network.fit(\n",
        "    train_images,\n",
        "    to_categorical(train_labels),\n",
        "    epochs = 6, batch_size = 32)"
      ],
      "execution_count": 293,
      "outputs": [
        {
          "output_type": "stream",
          "text": [
            "Epoch 1/6\n",
            "1875/1875 [==============================] - 6s 3ms/step - loss: 0.1964 - accuracy: 0.9373\n",
            "Epoch 2/6\n",
            "1875/1875 [==============================] - 6s 3ms/step - loss: 0.0816 - accuracy: 0.9748\n",
            "Epoch 3/6\n",
            "1875/1875 [==============================] - 6s 3ms/step - loss: 0.0629 - accuracy: 0.9802\n",
            "Epoch 4/6\n",
            "1875/1875 [==============================] - 6s 3ms/step - loss: 0.0562 - accuracy: 0.9823\n",
            "Epoch 5/6\n",
            "1875/1875 [==============================] - 6s 3ms/step - loss: 0.0486 - accuracy: 0.9845\n",
            "Epoch 6/6\n",
            "1875/1875 [==============================] - 6s 3ms/step - loss: 0.0454 - accuracy: 0.9861\n"
          ],
          "name": "stdout"
        },
        {
          "output_type": "execute_result",
          "data": {
            "text/plain": [
              "<tensorflow.python.keras.callbacks.History at 0x7f41b5f69780>"
            ]
          },
          "metadata": {
            "tags": []
          },
          "execution_count": 293
        }
      ]
    },
    {
      "cell_type": "code",
      "metadata": {
        "id": "16iow3TQNrrx",
        "colab_type": "code",
        "colab": {
          "base_uri": "https://localhost:8080/",
          "height": 34
        },
        "outputId": "9a50d6fb-4b2f-40a1-b0a5-6245b598201e"
      },
      "source": [
        "test_loss, test_acc = network.evaluate(test_images, to_categorical(test_labels))"
      ],
      "execution_count": 294,
      "outputs": [
        {
          "output_type": "stream",
          "text": [
            "313/313 [==============================] - 1s 2ms/step - loss: 0.0297 - accuracy: 0.9904\n"
          ],
          "name": "stdout"
        }
      ]
    },
    {
      "cell_type": "markdown",
      "metadata": {
        "id": "WRkcTBzsz_yq",
        "colab_type": "text"
      },
      "source": [
        "# Importanto uma imagem de teste e a colocando no formato correto"
      ]
    },
    {
      "cell_type": "code",
      "metadata": {
        "id": "E9NqD_K-SbBd",
        "colab_type": "code",
        "colab": {
          "base_uri": "https://localhost:8080/",
          "height": 282
        },
        "outputId": "61b17127-a07a-4002-998d-9aabb79d0fd1"
      },
      "source": [
        "four = Image.open('four.jpg')\n",
        "\n",
        "four = four.convert(mode = 'L')\n",
        "\n",
        "four = four.resize((28,28))\n",
        "#four = ImageEnhance.Contrast(four).enhance(1.5)\n",
        "\n",
        "data = np.asarray(four).astype('float64')/255\n",
        "data = 1 - data\n",
        "\n",
        "plt.imshow(data, cmap = plt.cm.binary)\n",
        "\n",
        "data = np.expand_dims(data, axis = (0,3))\n",
        "print('Formato da imagem: ', data.shape)"
      ],
      "execution_count": 295,
      "outputs": [
        {
          "output_type": "stream",
          "text": [
            "Formato da imagem:  (1, 28, 28, 1)\n"
          ],
          "name": "stdout"
        },
        {
          "output_type": "display_data",
          "data": {
            "image/png": "[encoded data removed]",
            "text/plain": [
              "<Figure size 432x288 with 1 Axes>"
            ]
          },
          "metadata": {
            "tags": [],
            "needs_background": "light"
          }
        }
      ]
    },
    {
      "cell_type": "code",
      "metadata": {
        "id": "N92VupY9TcVX",
        "colab_type": "code",
        "colab": {
          "base_uri": "https://localhost:8080/",
          "height": 52
        },
        "outputId": "6e52ce36-6238-491d-9823-da0155ab345f"
      },
      "source": [
        "print(\"Valor correto: \", 4)\n",
        "print('Chute da rede = ', np.argmax(network.predict(data)))"
      ],
      "execution_count": 297,
      "outputs": [
        {
          "output_type": "stream",
          "text": [
            "Valor correto:  4\n",
            "Chute da rede =  4\n"
          ],
          "name": "stdout"
        }
      ]
    }
  ]
}