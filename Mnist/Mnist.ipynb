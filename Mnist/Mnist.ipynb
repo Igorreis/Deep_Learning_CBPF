{
  "nbformat": 4,
  "nbformat_minor": 0,
  "metadata": {
    "colab": {
      "name": "Mnist.ipynb",
      "provenance": []
    },
    "kernelspec": {
      "name": "python3",
      "display_name": "Python 3"
    }
  },
  "cells": [
    {
      "cell_type": "markdown",
      "metadata": {
        "id": "Go7bUPa64bNy",
        "colab_type": "text"
      },
      "source": [
        "# Importando os pacotes"
      ]
    },
    {
      "cell_type": "code",
      "metadata": {
        "id": "_HwpwTMS4KXQ",
        "colab_type": "code",
        "colab": {}
      },
      "source": [
        "from keras.datasets import mnist # Mnist is the dataset for the 10 digits\n",
        "from keras import models\n",
        "from keras import layers\n",
        "from keras.utils import to_categorical\n",
        "from PIL import Image\n",
        "import numpy as np\n",
        "import matplotlib.pyplot as plt"
      ],
      "execution_count": null,
      "outputs": []
    },
    {
      "cell_type": "markdown",
      "metadata": {
        "id": "WBjvEb_F4i7M",
        "colab_type": "text"
      },
      "source": [
        "# Lendo os dados"
      ]
    },
    {
      "cell_type": "code",
      "metadata": {
        "id": "p8_Akxuf4oEY",
        "colab_type": "code",
        "colab": {
          "base_uri": "https://localhost:8080/",
          "height": 282
        },
        "outputId": "8c3bd3e8-f8f4-4ab1-c7b3-34b1b1287a0d"
      },
      "source": [
        "(train_images, train_labels), (test_images, test_labels) = mnist.load_data()\n",
        "\n",
        "plt.imshow(train_images[0])"
      ],
      "execution_count": null,
      "outputs": [
        {
          "output_type": "execute_result",
          "data": {
            "text/plain": [
              "<matplotlib.image.AxesImage at 0x7ff30fb09668>"
            ]
          },
          "metadata": {
            "tags": []
          },
          "execution_count": 17
        },
        {
          "output_type": "display_data",
          "data": {
            "image/png": "[encoded data removed]",
            "text/plain": [
              "<Figure size 432x288 with 1 Axes>"
            ]
          },
          "metadata": {
            "tags": [],
            "needs_background": "light"
          }
        }
      ]
    },
    {
      "cell_type": "markdown",
      "metadata": {
        "id": "7NVjVRj74qmH",
        "colab_type": "text"
      },
      "source": [
        "# Criando e compilando a rede neural"
      ]
    },
    {
      "cell_type": "code",
      "metadata": {
        "id": "i9IxQWhT48lb",
        "colab_type": "code",
        "colab": {}
      },
      "source": [
        "network = models.Sequential()\n",
        "network.add(layers.Dense(512, activation = 'relu', input_shape = (28 * 28,)))\n",
        "network.add(layers.Dense(10, activation = 'softmax'))\n",
        "\n",
        "network.compile(optimizer = 'rmsprop',\n",
        "                loss = 'categorical_crossentropy',\n",
        "                metrics = ['accuracy'])"
      ],
      "execution_count": null,
      "outputs": []
    },
    {
      "cell_type": "markdown",
      "metadata": {
        "id": "xUug8uww4_uu",
        "colab_type": "text"
      },
      "source": [
        "# Convertendo a matriz dos dados para um formato mais conveniente para a rede\n",
        "\n",
        "Deve ser compatível com o input_shape colocado na primeira camada.\n",
        "\n",
        "Além disso, os valores foram normalizados."
      ]
    },
    {
      "cell_type": "code",
      "metadata": {
        "id": "B5pm1pCM5QZH",
        "colab_type": "code",
        "colab": {}
      },
      "source": [
        "train_images = train_images.reshape((60000, 28 * 28))\n",
        "train_images = train_images.astype('float32') / 255\n",
        "\n",
        "test_images = test_images.reshape((10000, 28*28))\n",
        "test_images = test_images.astype('float32') / 255"
      ],
      "execution_count": null,
      "outputs": []
    },
    {
      "cell_type": "markdown",
      "metadata": {
        "id": "xdbaLTkL5X2I",
        "colab_type": "text"
      },
      "source": [
        "# Ajusta dos labels (respostas)\n",
        "\n",
        "Como o problema é do tipo de categorização, utilizamos o comando to_categorical nas respostas dos nossos dados."
      ]
    },
    {
      "cell_type": "code",
      "metadata": {
        "id": "9EeY-b0v5odc",
        "colab_type": "code",
        "colab": {}
      },
      "source": [
        "train_labels = to_categorical(train_labels)\n",
        "test_labels = to_categorical(test_labels)"
      ],
      "execution_count": null,
      "outputs": []
    },
    {
      "cell_type": "markdown",
      "metadata": {
        "id": "qmTPyx3i5qDD",
        "colab_type": "text"
      },
      "source": [
        "# Treinando a rede"
      ]
    },
    {
      "cell_type": "code",
      "metadata": {
        "id": "-OgBSLOg56Kn",
        "colab_type": "code",
        "colab": {
          "base_uri": "https://localhost:8080/",
          "height": 208
        },
        "outputId": "03ee8f29-63b3-45a1-ed32-b1d347af22a7"
      },
      "source": [
        "network.fit(train_images, train_labels, epochs = 5, batch_size = 32)"
      ],
      "execution_count": null,
      "outputs": [
        {
          "output_type": "stream",
          "text": [
            "Epoch 1/5\n",
            "1875/1875 [==============================] - 10s 6ms/step - loss: 0.2012 - accuracy: 0.9407\n",
            "Epoch 2/5\n",
            "1875/1875 [==============================] - 11s 6ms/step - loss: 0.0883 - accuracy: 0.9750\n",
            "Epoch 3/5\n",
            "1875/1875 [==============================] - 10s 6ms/step - loss: 0.0642 - accuracy: 0.9821\n",
            "Epoch 4/5\n",
            "1875/1875 [==============================] - 10s 6ms/step - loss: 0.0499 - accuracy: 0.9862\n",
            "Epoch 5/5\n",
            "1875/1875 [==============================] - 11s 6ms/step - loss: 0.0393 - accuracy: 0.9893\n"
          ],
          "name": "stdout"
        },
        {
          "output_type": "execute_result",
          "data": {
            "text/plain": [
              "<tensorflow.python.keras.callbacks.History at 0x7ff31a56cbe0>"
            ]
          },
          "metadata": {
            "tags": []
          },
          "execution_count": 6
        }
      ]
    },
    {
      "cell_type": "markdown",
      "metadata": {
        "id": "qdHRExw558bl",
        "colab_type": "text"
      },
      "source": [
        "# Testano o resultado do treino com os dados de teste"
      ]
    },
    {
      "cell_type": "code",
      "metadata": {
        "id": "eH7A05ar6E_b",
        "colab_type": "code",
        "colab": {
          "base_uri": "https://localhost:8080/",
          "height": 52
        },
        "outputId": "e80dbc68-f8a6-4b2c-b933-f079dab319ae"
      },
      "source": [
        "test_loss, test_acc  = network.evaluate(test_images, test_labels)\n",
        "print('test_acc = ', test_acc)"
      ],
      "execution_count": null,
      "outputs": [
        {
          "output_type": "stream",
          "text": [
            "313/313 [==============================] - 1s 2ms/step - loss: 0.0849 - accuracy: 0.9791\n",
            "test_acc =  0.9790999889373779\n"
          ],
          "name": "stdout"
        }
      ]
    },
    {
      "cell_type": "markdown",
      "metadata": {
        "id": "6AWpt-aP6IJF",
        "colab_type": "text"
      },
      "source": [
        "# Teste com uma imagem de fora do mnist\n",
        "\n",
        "\n",
        "---\n",
        "Vamos testar se a rede  consegue identificar uma imagem de fora do dataset mnist. A imagem utilizada, mostrada abaixo, tem resolução diferente daquelas presentes no dataset, e também está em outra escala de cores, então precisamos tanto mudar sua resolução quanto sua escala.\n",
        "\n",
        "![four.jpg](data:image/jpeg;base64,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)"
      ]
    },
    {
      "cell_type": "code",
      "metadata": {
        "id": "ogBivSWm6__P",
        "colab_type": "code",
        "colab": {
          "base_uri": "https://localhost:8080/",
          "height": 282
        },
        "outputId": "982142a5-e559-49ad-9fbf-bf962a29d684"
      },
      "source": [
        "size = 28, 28\n",
        "image = Image.open('four.jpg').convert('L')\n",
        "image_resized = image.resize(size) # This images can be printed so you can see\n",
        "                                   # the difference in resolution\n",
        "\n",
        "print(plt.imshow(image_resized))"
      ],
      "execution_count": null,
      "outputs": [
        {
          "output_type": "stream",
          "text": [
            "AxesImage(54,36;334.8x217.44)\n"
          ],
          "name": "stdout"
        },
        {
          "output_type": "display_data",
          "data": {
            "image/png": "[encoded data removed]",
            "text/plain": [
              "<Figure size 432x288 with 1 Axes>"
            ]
          },
          "metadata": {
            "tags": [],
            "needs_background": "light"
          }
        }
      ]
    },
    {
      "cell_type": "code",
      "metadata": {
        "id": "cyv3x0Ik7FCU",
        "colab_type": "code",
        "colab": {
          "base_uri": "https://localhost:8080/",
          "height": 265
        },
        "outputId": "0f4f8b5d-78bb-4902-fdfe-5c2e4739a6b6"
      },
      "source": [
        "data = np.asarray(image_resized)\n",
        "plt.imshow(1-data)\n",
        "data = 1 - data.reshape((1,28 * 28)) / 255"
      ],
      "execution_count": null,
      "outputs": [
        {
          "output_type": "display_data",
          "data": {
            "image/png": "[encoded data removed]",
            "text/plain": [
              "<Figure size 432x288 with 1 Axes>"
            ]
          },
          "metadata": {
            "tags": [],
            "needs_background": "light"
          }
        }
      ]
    },
    {
      "cell_type": "markdown",
      "metadata": {
        "id": "DunHxp5Z7bUv",
        "colab_type": "text"
      },
      "source": [
        "# Testando\n",
        "\n",
        "\n",
        "---\n",
        "Agora que a imagem está no mesmo esquema que aquelas no dataset, podemos testar.\n"
      ]
    },
    {
      "cell_type": "code",
      "metadata": {
        "id": "kRziAF737tNk",
        "colab_type": "code",
        "colab": {
          "base_uri": "https://localhost:8080/",
          "height": 34
        },
        "outputId": "0e5fffb5-5ba7-458f-eeb9-e859c8bc517f"
      },
      "source": [
        "result = network.predict(data)\n",
        "print(\"A rede acha que o número da imagem é: \", np.argmax(result))"
      ],
      "execution_count": 18,
      "outputs": [
        {
          "output_type": "stream",
          "text": [
            "A rede acha que o número da imagem é:  4\n"
          ],
          "name": "stdout"
        }
      ]
    }
  ]
}